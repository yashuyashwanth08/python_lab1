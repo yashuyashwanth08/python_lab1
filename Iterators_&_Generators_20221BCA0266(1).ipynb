{
  "nbformat": 4,
  "nbformat_minor": 0,
  "metadata": {
    "colab": {
      "provenance": [],
      "include_colab_link": true
    },
    "kernelspec": {
      "name": "python3",
      "display_name": "Python 3"
    },
    "language_info": {
      "name": "python"
    }
  },
  "cells": [
    {
      "cell_type": "markdown",
      "metadata": {
        "id": "view-in-github",
        "colab_type": "text"
      },
      "source": [
        "<a href=\"https://colab.research.google.com/github/yashuyashwanth08/python_lab1/blob/main/Iterators_%26_Generators_20221BCA0266(1).ipynb\" target=\"_parent\"><img src=\"https://colab.research.google.com/assets/colab-badge.svg\" alt=\"Open In Colab\"/></a>"
      ]
    },
    {
      "cell_type": "markdown",
      "source": [
        "*Functional Programming*\n",
        "\n",
        "Functional programming decomposes a problem into a set of functions.\n",
        "Ideally, functions only take inputs and produce outputs, and don’t have any internal state that affects the output produced for a given input.\n",
        "\n",
        "Well-known functional languages include the ML family (Standard ML, OCaml, and other variants) and Haskell"
      ],
      "metadata": {
        "id": "uv9tv15CX9if"
      }
    },
    {
      "cell_type": "markdown",
      "source": [
        "Functional programming offers various features such as ***iterators and generators*** and relevant library modules such as ***itertools and functools***."
      ],
      "metadata": {
        "id": "oFiPGaqUYY2a"
      }
    },
    {
      "cell_type": "markdown",
      "source": [
        "Functional programming can be considered the opposite of ***object-oriented programming***.\n",
        "\n",
        "Objects are little capsules containing some internal state along with a collection of method calls that let you modify this state, and programs consist of making the right set of state changes.\n",
        "\n",
        "Functional programming wants to avoid state changes as much as possible and works with data flowing between functions.\n",
        "\n",
        "In Python you might combine the two approaches by writing functions that take and return instances representing objects in your application (e-mail messages, transactions, etc.)"
      ],
      "metadata": {
        "id": "xNCOfAzwY3Ht"
      }
    },
    {
      "cell_type": "markdown",
      "source": [
        "There are theoretical and practical advantages to the functional style:\n",
        "\n",
        "•\tFormal provability.\n",
        "\n",
        "•\tModularity.\n",
        "\n",
        "•\tComposability.\n",
        "\n",
        "•\tEase of debugging and testing\n"
      ],
      "metadata": {
        "id": "cPGwS8wLZNEF"
      }
    },
    {
      "cell_type": "markdown",
      "source": [
        "## ***Iterators***\n",
        "A Python language feature that’s an important foundation for writing functional-style programs: iterators.\n",
        "\n",
        "An iterator is an object representing a stream of data; this object returns the data one element at a time.\n",
        "\n",
        "A Python iterator must support a method called __next__() that takes no arguments and always returns the next element of the stream.\n",
        "\n",
        "If there are no more elements in the stream, __next__() must raise the StopIteration exception.\n",
        "\n",
        "Iterators don’t have to be finite, though; it’s perfectly reasonable to write an iterator that produces an infinite stream of data.\n",
        "\n",
        "The built-in iter() function takes an arbitrary object and tries to return an iterator that will return the object’s contents or elements, raising TypeError if the object doesn’t support iteration.\n",
        "\n",
        "Several of Python’s built-in data types support iteration, the most common being lists and dictionaries.\n",
        "\n",
        "**An object is called iterable if you can get an iterator for it.**\n"
      ],
      "metadata": {
        "id": "pF5oSuf7Zerl"
      }
    },
    {
      "cell_type": "code",
      "source": [
        "L = [1, 2, 3, 4]\n",
        "lt = iter(L)\n",
        "lt\n"
      ],
      "metadata": {
        "colab": {
          "base_uri": "https://localhost:8080/"
        },
        "id": "sXCmoX1faPfo",
        "outputId": "5d1eebf4-dc04-4e9d-e520-07f9724c9b91"
      },
      "execution_count": 5,
      "outputs": [
        {
          "output_type": "execute_result",
          "data": {
            "text/plain": [
              "<list_iterator at 0x7bafe20fe260>"
            ]
          },
          "metadata": {},
          "execution_count": 5
        }
      ]
    },
    {
      "cell_type": "code",
      "source": [
        "next(lt)"
      ],
      "metadata": {
        "colab": {
          "base_uri": "https://localhost:8080/"
        },
        "id": "gldNs8dNZS7v",
        "outputId": "c90bcc2a-70db-486e-dd9a-88572d0e7e33"
      },
      "execution_count": 6,
      "outputs": [
        {
          "output_type": "execute_result",
          "data": {
            "text/plain": [
              "1"
            ]
          },
          "metadata": {},
          "execution_count": 6
        }
      ]
    },
    {
      "cell_type": "code",
      "source": [
        "it.__next__()"
      ],
      "metadata": {
        "colab": {
          "base_uri": "https://localhost:8080/",
          "height": 176
        },
        "id": "lgdzGFwZbJe0",
        "outputId": "bed4d053-d58a-42d3-de11-4b4a2e101d90"
      },
      "execution_count": null,
      "outputs": [
        {
          "output_type": "error",
          "ename": "StopIteration",
          "evalue": "ignored",
          "traceback": [
            "\u001b[0;31m---------------------------------------------------------------------------\u001b[0m",
            "\u001b[0;31mStopIteration\u001b[0m                             Traceback (most recent call last)",
            "\u001b[0;32m<ipython-input-5-74e64ed6c80d>\u001b[0m in \u001b[0;36m<cell line: 1>\u001b[0;34m()\u001b[0m\n\u001b[0;32m----> 1\u001b[0;31m \u001b[0mit\u001b[0m\u001b[0;34m.\u001b[0m\u001b[0m__next__\u001b[0m\u001b[0;34m(\u001b[0m\u001b[0;34m)\u001b[0m\u001b[0;34m\u001b[0m\u001b[0;34m\u001b[0m\u001b[0m\n\u001b[0m",
            "\u001b[0;31mStopIteration\u001b[0m: "
          ]
        }
      ]
    },
    {
      "cell_type": "code",
      "source": [
        "next(lt)"
      ],
      "metadata": {
        "colab": {
          "base_uri": "https://localhost:8080/"
        },
        "id": "aNZmQrGrbXbD",
        "outputId": "7fe6d087-ffee-4419-8a46-91c0df266cc0"
      },
      "execution_count": 7,
      "outputs": [
        {
          "output_type": "execute_result",
          "data": {
            "text/plain": [
              "2"
            ]
          },
          "metadata": {},
          "execution_count": 7
        }
      ]
    },
    {
      "cell_type": "code",
      "source": [
        "next(lt)"
      ],
      "metadata": {
        "colab": {
          "base_uri": "https://localhost:8080/"
        },
        "id": "zK02GtVJvuAh",
        "outputId": "d854688f-e933-4602-c949-fc3e476c4b36"
      },
      "execution_count": 9,
      "outputs": [
        {
          "output_type": "execute_result",
          "data": {
            "text/plain": [
              "3"
            ]
          },
          "metadata": {},
          "execution_count": 9
        }
      ]
    },
    {
      "cell_type": "code",
      "source": [
        "for i in iter(L):\n",
        "  print(i)"
      ],
      "metadata": {
        "colab": {
          "base_uri": "https://localhost:8080/"
        },
        "id": "A8IpyVA4bcbY",
        "outputId": "0d9c63d3-cb04-4758-cf76-b91a6cad76a1"
      },
      "execution_count": 12,
      "outputs": [
        {
          "output_type": "stream",
          "name": "stdout",
          "text": [
            "1\n",
            "2\n",
            "3\n",
            "4\n"
          ]
        }
      ]
    },
    {
      "cell_type": "code",
      "source": [
        "for i in L:\n",
        "  print(i)\n"
      ],
      "metadata": {
        "colab": {
          "base_uri": "https://localhost:8080/"
        },
        "id": "kXI0VAWXbfTe",
        "outputId": "06692165-675c-4e82-e4bf-a31d98e9779f"
      },
      "execution_count": 11,
      "outputs": [
        {
          "output_type": "stream",
          "name": "stdout",
          "text": [
            "1\n",
            "2\n",
            "3\n",
            "4\n"
          ]
        }
      ]
    },
    {
      "cell_type": "markdown",
      "source": [
        "# ***Iterators can be materialized as lists or tuples by using the list() or tuple() constructor functions:***"
      ],
      "metadata": {
        "id": "fPx7FZ0nc1zq"
      }
    },
    {
      "cell_type": "code",
      "source": [
        "L = [1, 2, 3, 4]\n",
        "iterator = iter(L)\n",
        "t = tuple(iterator)\n",
        "t"
      ],
      "metadata": {
        "colab": {
          "base_uri": "https://localhost:8080/"
        },
        "id": "4lAAQsircvnm",
        "outputId": "d28673d6-3928-4a5f-8025-9b99ea6a8dfc"
      },
      "execution_count": 13,
      "outputs": [
        {
          "output_type": "execute_result",
          "data": {
            "text/plain": [
              "(1, 2, 3, 4)"
            ]
          },
          "metadata": {},
          "execution_count": 13
        }
      ]
    },
    {
      "cell_type": "markdown",
      "source": [
        "# ***Sequence unpacking also supports iterators: if you know an iterator will return N elements, you can unpack them into an N-tuple***"
      ],
      "metadata": {
        "id": "0WKYiSPEdOqK"
      }
    },
    {
      "cell_type": "code",
      "source": [
        "L = [1, 2, 3, 4]\n",
        "iterator = iter(L)\n",
        "a, b = iterator\n",
        "a, b\n"
      ],
      "metadata": {
        "colab": {
          "base_uri": "https://localhost:8080/",
          "height": 227
        },
        "id": "wnshJMqHdUgB",
        "outputId": "a5c32bfb-a345-46c4-8cd2-8c869133d559"
      },
      "execution_count": 15,
      "outputs": [
        {
          "output_type": "error",
          "ename": "ValueError",
          "evalue": "ignored",
          "traceback": [
            "\u001b[0;31m---------------------------------------------------------------------------\u001b[0m",
            "\u001b[0;31mValueError\u001b[0m                                Traceback (most recent call last)",
            "\u001b[0;32m<ipython-input-15-8617122d712d>\u001b[0m in \u001b[0;36m<cell line: 3>\u001b[0;34m()\u001b[0m\n\u001b[1;32m      1\u001b[0m \u001b[0mL\u001b[0m \u001b[0;34m=\u001b[0m \u001b[0;34m[\u001b[0m\u001b[0;36m1\u001b[0m\u001b[0;34m,\u001b[0m \u001b[0;36m2\u001b[0m\u001b[0;34m,\u001b[0m \u001b[0;36m3\u001b[0m\u001b[0;34m,\u001b[0m \u001b[0;36m4\u001b[0m\u001b[0;34m]\u001b[0m\u001b[0;34m\u001b[0m\u001b[0;34m\u001b[0m\u001b[0m\n\u001b[1;32m      2\u001b[0m \u001b[0miterator\u001b[0m \u001b[0;34m=\u001b[0m \u001b[0miter\u001b[0m\u001b[0;34m(\u001b[0m\u001b[0mL\u001b[0m\u001b[0;34m)\u001b[0m\u001b[0;34m\u001b[0m\u001b[0;34m\u001b[0m\u001b[0m\n\u001b[0;32m----> 3\u001b[0;31m \u001b[0ma\u001b[0m\u001b[0;34m,\u001b[0m \u001b[0mb\u001b[0m \u001b[0;34m=\u001b[0m \u001b[0miterator\u001b[0m\u001b[0;34m\u001b[0m\u001b[0;34m\u001b[0m\u001b[0m\n\u001b[0m\u001b[1;32m      4\u001b[0m \u001b[0ma\u001b[0m\u001b[0;34m,\u001b[0m \u001b[0mb\u001b[0m\u001b[0;34m\u001b[0m\u001b[0;34m\u001b[0m\u001b[0m\n",
            "\u001b[0;31mValueError\u001b[0m: too many values to unpack (expected 2)"
          ]
        }
      ]
    },
    {
      "cell_type": "code",
      "source": [],
      "metadata": {
        "id": "_Pw_e8CFxh2q"
      },
      "execution_count": null,
      "outputs": []
    },
    {
      "cell_type": "markdown",
      "source": [
        "Built-in functions such as max() and min() can take a single iterator argument and will return the largest or smallest element.\n",
        "\n",
        "The \"in\" and \"not in\" operators also support iterators: X in iterator is true if X is found in the stream returned by the iterator.\n",
        "\n",
        "\n",
        "Note that you can only go forward in an iterator; there’s no way to get the previous element, reset the iterator, or make a copy of it. Iterator objects can optionally provide these additional capabilities, but the iterator protocol only specifies the __next__() method. Functions may therefore consume all of the iterator’s output, and if you need to do something different with the same stream, you’ll have to create a new iterator.\n"
      ],
      "metadata": {
        "id": "CKmkboAQdoTo"
      }
    },
    {
      "cell_type": "markdown",
      "source": [
        "# ***Data Types That Support Iterators***\n",
        "\n",
        "\n",
        "Calling iter() on a dictionary returns an iterator that will loop over the dictionary’s keys:\n"
      ],
      "metadata": {
        "id": "DOwezPtQd7L-"
      }
    },
    {
      "cell_type": "code",
      "source": [
        "s = {'Jan': 1, 'Feb': 2, 'Mar': 3, 'Apr': 4, 'May': 5, 'Jun': 6, 'Jul': 7, 'Aug': 8, 'Sep': 9, 'Oct': 10, 'Nov': 11, 'Dec': 12}\n",
        "for key in s:\n",
        "  print(key, s[key])"
      ],
      "metadata": {
        "colab": {
          "base_uri": "https://localhost:8080/"
        },
        "id": "kOB89QtReDpE",
        "outputId": "72240dad-712b-4de7-a3b9-66fc4136f835"
      },
      "execution_count": 18,
      "outputs": [
        {
          "output_type": "stream",
          "name": "stdout",
          "text": [
            "Jan 1\n",
            "Feb 2\n",
            "Mar 3\n",
            "Apr 4\n",
            "May 5\n",
            "Jun 6\n",
            "Jul 7\n",
            "Aug 8\n",
            "Sep 9\n",
            "Oct 10\n",
            "Nov 11\n",
            "Dec 12\n"
          ]
        }
      ]
    },
    {
      "cell_type": "markdown",
      "source": [
        "# Applying ***iter()*** to a dictionary always loops over the keys, but dictionaries have methods that return other iterators. If you want to iterate over values or key/value pairs, you can explicitly call the values() or items() methods to get an appropriate iterator.\n",
        "# The ***dict()*** constructor can accept an iterator that returns a finite stream of (key, value) tuples:\n"
      ],
      "metadata": {
        "id": "694Rw83demyD"
      }
    },
    {
      "cell_type": "code",
      "source": [
        "l=[5,6,7]\n",
        "[2*i for i in l]"
      ],
      "metadata": {
        "id": "j5jVuOLIqzOt",
        "colab": {
          "base_uri": "https://localhost:8080/"
        },
        "outputId": "9bf38cf8-93e6-4adf-f839-f1805d86ad25"
      },
      "execution_count": 21,
      "outputs": [
        {
          "output_type": "execute_result",
          "data": {
            "text/plain": [
              "[10, 12, 14]"
            ]
          },
          "metadata": {},
          "execution_count": 21
        }
      ]
    },
    {
      "cell_type": "code",
      "source": [
        "l=[1,2,3]\n",
        "for i in l:\n",
        "  x=2*i\n",
        "  print(x)\n"
      ],
      "metadata": {
        "colab": {
          "base_uri": "https://localhost:8080/"
        },
        "id": "b2KWtoHQBc2r",
        "outputId": "2b0a63da-4ddb-4a6a-8274-3c9654fbc91a"
      },
      "execution_count": null,
      "outputs": [
        {
          "output_type": "stream",
          "name": "stdout",
          "text": [
            "2\n",
            "4\n",
            "6\n"
          ]
        }
      ]
    },
    {
      "cell_type": "code",
      "source": [
        "[2*i for i in l]"
      ],
      "metadata": {
        "colab": {
          "base_uri": "https://localhost:8080/"
        },
        "id": "1AOF9Xg8BrvW",
        "outputId": "2ee6c975-b885-4bac-b210-3b0ccd2f9b44"
      },
      "execution_count": null,
      "outputs": [
        {
          "output_type": "execute_result",
          "data": {
            "text/plain": [
              "[2, 4, 6]"
            ]
          },
          "metadata": {},
          "execution_count": 2
        }
      ]
    },
    {
      "cell_type": "code",
      "source": [
        "L = [('maharashtra', 'karnataka'), ('chennai', 'kerala'), ('DELHI', 'KESHMEER')]\n",
        "dict(iter(L))\n"
      ],
      "metadata": {
        "colab": {
          "base_uri": "https://localhost:8080/"
        },
        "id": "s9ce_Rmtd1PO",
        "outputId": "ecedc794-96cd-444b-dd39-3bdd1fa9a524"
      },
      "execution_count": 22,
      "outputs": [
        {
          "output_type": "execute_result",
          "data": {
            "text/plain": [
              "{'maharashtra': 'karnataka', 'chennai': 'kerala', 'DELHI': 'KESHMEER'}"
            ]
          },
          "metadata": {},
          "execution_count": 22
        }
      ]
    },
    {
      "cell_type": "markdown",
      "source": [
        "**List comprehensions** and **generator expressions** (short form: *“listcomps”* and *“genexps”*) are a concise notation for such operations, borrowed from the functional programming language Haskell (https://www.haskell.org/). You can strip all the whitespace from a stream of strings with the following code:"
      ],
      "metadata": {
        "id": "dSKvU1TngP1Q"
      }
    },
    {
      "cell_type": "code",
      "source": [
        "line_list = ['  Presidency University\\n', ' Computer Science Department\\n', ' Dept Of BCA\\n', '  \\n']\n",
        "\n",
        "# Generator expression -- returns iterator\n",
        "stripped_iter = (line.strip() for line in line_list)\n"
      ],
      "metadata": {
        "id": "5a85PdRDgaK7"
      },
      "execution_count": 23,
      "outputs": []
    },
    {
      "cell_type": "code",
      "source": [
        "# List comprehension -- returns list\n",
        "stripped_list = [line.strip() for line in line_list]\n",
        "print(stripped_list)"
      ],
      "metadata": {
        "colab": {
          "base_uri": "https://localhost:8080/"
        },
        "id": "uhtv9oGCh5Zq",
        "outputId": "686ec4bf-0055-4984-c38c-d080a2212d07"
      },
      "execution_count": 24,
      "outputs": [
        {
          "output_type": "stream",
          "name": "stdout",
          "text": [
            "['Presidency University', 'Computer Science Department', 'Dept Of BCA', '']\n"
          ]
        }
      ]
    },
    {
      "cell_type": "code",
      "source": [
        "#You can select only certain elements by adding an \"if\" condition:\n",
        "stripped_list = [line.strip() for line in line_list if line != \" \"]\n",
        "print(stripped_list)"
      ],
      "metadata": {
        "colab": {
          "base_uri": "https://localhost:8080/"
        },
        "id": "oeFnKnmAh6CN",
        "outputId": "af802c3d-e24e-428c-897c-d276666a3c13"
      },
      "execution_count": 25,
      "outputs": [
        {
          "output_type": "stream",
          "name": "stdout",
          "text": [
            "['Presidency University', 'Computer Science Department', 'Dept Of BCA', '']\n"
          ]
        }
      ]
    },
    {
      "cell_type": "markdown",
      "source": [
        "## ***Generators***\n",
        "With a list comprehension, you get back a Python list; stripped_list is a list containing the resulting lines, not an iterator.\n",
        "\n",
        "Generator expressions return an iterator that computes the values as necessary, not needing to materialize all the values at once. This means that list comprehensions aren’t useful if you’re working with iterators that return an infinite stream or a very large amount of data.\n",
        "\n",
        "Generator expressions are preferable in these situations.\n",
        "\n",
        "Generator expressions are surrounded by parentheses (“()”) and list comprehensions are surrounded by square brackets (“[]”).\n",
        "\n",
        "Generator expressions have the form:\n",
        "\n",
        "( expression for expr in sequence1\n",
        "             \n",
        "             if condition1\n",
        "             for expr2 in sequence2\n",
        "             if condition2\n",
        "             for expr3 in sequence3\n",
        "             ...\n",
        "             if condition3\n",
        "             for exprN in sequenceN\n",
        "             if conditionN )\n",
        "Again, for a list comprehension only the outside brackets are different (square brackets instead of parentheses).\n",
        "The elements of the generated output will be the successive values of expression. The if clauses are all optional; if present, expression is only evaluated and added to the result when condition is true.\n",
        "Generator expressions always have to be written inside parentheses, but the parentheses signalling a function call also count. If you want to create an iterator that will be immediately passed to a function you can write:\n",
        "\n",
        "obj_total = sum(obj.count for obj in list_all_objects())\n",
        "\n",
        "The for...in clauses contain the sequences to be iterated over. The sequences do not have to be the same length, because they are iterated over from left to right, not in parallel. For each element in sequence1, sequence2 is looped over from the beginning. sequence3 is then looped over for each resulting pair of elements from sequence1 and sequence2.\n",
        "To put it another way, a list comprehension or generator expression is equivalent to the following Python code:\n",
        "\n",
        "for expr1 in sequence1:\n",
        "    \n",
        "    if not (condition1):\n",
        "        continue   # Skip this element\n",
        "    for expr2 in sequence2:\n",
        "        if not (condition2):\n",
        "            continue   # Skip this element\n",
        "        ...\n",
        "    for exprN in sequenceN:\n",
        "            if not (conditionN):\n",
        "                continue   # Skip this element\n",
        "\n",
        "            # Output the value of\n",
        "            # the expression.\n",
        "This means that when there are multiple for...in clauses but no if clauses, the length of the resulting output will be equal to the product of the lengths of all the sequences. If you have two lists of length 3, the output list is 9 elements long:"
      ],
      "metadata": {
        "id": "b7Fe4dMBi8nI"
      }
    },
    {
      "cell_type": "code",
      "source": [
        "seqa = 'xyz'\n",
        "seqb = (1, 2, 3)\n",
        "[(x, y) for x in seqa for y in seqb]"
      ],
      "metadata": {
        "id": "BPEXl0ADk384",
        "colab": {
          "base_uri": "https://localhost:8080/"
        },
        "outputId": "4ed8e022-5d3d-488b-9415-994c7590d390"
      },
      "execution_count": 27,
      "outputs": [
        {
          "output_type": "execute_result",
          "data": {
            "text/plain": [
              "[('x', 1),\n",
              " ('x', 2),\n",
              " ('x', 3),\n",
              " ('y', 1),\n",
              " ('y', 2),\n",
              " ('y', 3),\n",
              " ('z', 1),\n",
              " ('z', 2),\n",
              " ('z', 3)]"
            ]
          },
          "metadata": {},
          "execution_count": 27
        }
      ]
    },
    {
      "cell_type": "markdown",
      "source": [
        "### **Generators**\n",
        "\n",
        "Generators are a special class of functions that simplify the task of writing iterators. Regular functions compute a value and return it, but generators return an iterator that returns a stream of values."
      ],
      "metadata": {
        "id": "K-LzP5TZqLCR"
      }
    },
    {
      "cell_type": "markdown",
      "source": [
        "Here’s the simplest example of a generator function:\n",
        "\n",
        "  \n",
        "    def generate_ints(N):\n",
        "      for i in range(N):\n",
        "        yield i\n",
        "\n",
        "Any function containing a ***yield*** keyword is a generator function;\n",
        "\n",
        "this is detected by Python’s bytecode compiler which compiles the function specially as a result.\n",
        "\n",
        "When you call a generator function, it doesn’t return a single value; instead it returns a generator object that supports the iterator protocol.\n",
        "\n",
        "On executing the yield expression, the generator outputs the value of i, similar to a return statement.\n",
        "\n",
        "The big difference between yield and a return statement is that on reaching a yield the generator’s state of execution is suspended and local variables are preserved.\n",
        "\n",
        "On the next call to the generator’s __next__() method, the function will resume executing.\n"
      ],
      "metadata": {
        "id": "C1SQx9ayXtQ-"
      }
    },
    {
      "cell_type": "markdown",
      "source": [
        "## ***Usage of the generate_ints() generator:***"
      ],
      "metadata": {
        "id": "FW_SmS2DYj8D"
      }
    },
    {
      "cell_type": "code",
      "source": [
        "def generate_ints(a):\n",
        "  for i in range(a):\n",
        "    yield i\n",
        "\n",
        "\n",
        "gen=generate_ints(8)\n",
        "next(gen)"
      ],
      "metadata": {
        "id": "qP-Sdf2OqfWe",
        "colab": {
          "base_uri": "https://localhost:8080/"
        },
        "outputId": "9ae4cc05-4ae1-4e50-e254-82d6b7335842"
      },
      "execution_count": 28,
      "outputs": [
        {
          "output_type": "execute_result",
          "data": {
            "text/plain": [
              "0"
            ]
          },
          "metadata": {},
          "execution_count": 28
        }
      ]
    },
    {
      "cell_type": "code",
      "source": [
        "next(gen)"
      ],
      "metadata": {
        "colab": {
          "base_uri": "https://localhost:8080/"
        },
        "id": "5P80WJsRybT3",
        "outputId": "2b66e888-b0ae-43d4-c499-b6e15e136f84"
      },
      "execution_count": null,
      "outputs": [
        {
          "output_type": "execute_result",
          "data": {
            "text/plain": [
              "1"
            ]
          },
          "metadata": {},
          "execution_count": 13
        }
      ]
    },
    {
      "cell_type": "code",
      "source": [
        "next(gen)"
      ],
      "metadata": {
        "id": "v4E5uPGmzYKP",
        "colab": {
          "base_uri": "https://localhost:8080/"
        },
        "outputId": "d473c03f-628d-4beb-b8ab-a7f8614c3b3a"
      },
      "execution_count": null,
      "outputs": [
        {
          "output_type": "execute_result",
          "data": {
            "text/plain": [
              "2"
            ]
          },
          "metadata": {},
          "execution_count": 10
        }
      ]
    },
    {
      "cell_type": "code",
      "source": [
        "next(gen)"
      ],
      "metadata": {
        "colab": {
          "base_uri": "https://localhost:8080/"
        },
        "id": "Bhvjv6r8yh4E",
        "outputId": "eca4d138-4cd0-4fb8-e9d7-b5830641cf39"
      },
      "execution_count": 29,
      "outputs": [
        {
          "output_type": "execute_result",
          "data": {
            "text/plain": [
              "1"
            ]
          },
          "metadata": {},
          "execution_count": 29
        }
      ]
    },
    {
      "cell_type": "code",
      "source": [
        "next(gen)"
      ],
      "metadata": {
        "colab": {
          "base_uri": "https://localhost:8080/"
        },
        "id": "_cHmd1NpZS2K",
        "outputId": "dee6f452-8191-425f-f008-9cbdce4fdcdd"
      },
      "execution_count": null,
      "outputs": [
        {
          "output_type": "execute_result",
          "data": {
            "text/plain": [
              "1"
            ]
          },
          "metadata": {},
          "execution_count": 8
        }
      ]
    },
    {
      "cell_type": "code",
      "source": [
        "next(gen)"
      ],
      "metadata": {
        "colab": {
          "base_uri": "https://localhost:8080/"
        },
        "id": "3FsCIOcBzd6H",
        "outputId": "e165717b-baca-4d13-8e5d-6d5bd5ca86cb"
      },
      "execution_count": 30,
      "outputs": [
        {
          "output_type": "execute_result",
          "data": {
            "text/plain": [
              "2"
            ]
          },
          "metadata": {},
          "execution_count": 30
        }
      ]
    },
    {
      "cell_type": "code",
      "source": [
        "next(gen)"
      ],
      "metadata": {
        "colab": {
          "base_uri": "https://localhost:8080/"
        },
        "id": "Ru9J3mgdzgmw",
        "outputId": "e2b50320-a209-4a03-cc58-67e34d53a2c6"
      },
      "execution_count": 31,
      "outputs": [
        {
          "output_type": "execute_result",
          "data": {
            "text/plain": [
              "3"
            ]
          },
          "metadata": {},
          "execution_count": 31
        }
      ]
    },
    {
      "cell_type": "markdown",
      "source": [
        "Values are sent into a generator by calling its ***send(value***) method. This method resumes the generator’s code and the yield expression returns the specified value. If the regular __next__() method is called, the yield returns None"
      ],
      "metadata": {
        "id": "A67am5d-Z0cJ"
      }
    },
    {
      "cell_type": "code",
      "source": [
        "def counter1(maximum):\n",
        "    i = 0\n",
        "    while i < maximum:\n",
        "        val = (yield i)\n",
        "        # If value provided, change counter1\n",
        "        if val is not None:\n",
        "            i = val\n",
        "        else:\n",
        "            i += 1\n",
        "\n",
        "\n",
        "\n",
        "it = counter1(10)\n",
        "next(it)"
      ],
      "metadata": {
        "colab": {
          "base_uri": "https://localhost:8080/"
        },
        "id": "gT8toLplZ-tj",
        "outputId": "b7a16ffe-d42c-46cb-c9a6-bc81877c4f66"
      },
      "execution_count": 34,
      "outputs": [
        {
          "output_type": "execute_result",
          "data": {
            "text/plain": [
              "0"
            ]
          },
          "metadata": {},
          "execution_count": 34
        }
      ]
    },
    {
      "cell_type": "code",
      "source": [
        "next(it)"
      ],
      "metadata": {
        "colab": {
          "base_uri": "https://localhost:8080/"
        },
        "id": "4Xp7viil0YQY",
        "outputId": "6835a2e5-ea1f-4260-e4d1-956c44d3314f"
      },
      "execution_count": null,
      "outputs": [
        {
          "output_type": "execute_result",
          "data": {
            "text/plain": [
              "1"
            ]
          },
          "metadata": {},
          "execution_count": 17
        }
      ]
    },
    {
      "cell_type": "code",
      "source": [
        "next(it)"
      ],
      "metadata": {
        "colab": {
          "base_uri": "https://localhost:8080/"
        },
        "id": "RC9GcZCu1Xca",
        "outputId": "77092ec0-3976-4cef-ae74-3e0bdf296c5f"
      },
      "execution_count": null,
      "outputs": [
        {
          "output_type": "execute_result",
          "data": {
            "text/plain": [
              "2"
            ]
          },
          "metadata": {},
          "execution_count": 18
        }
      ]
    },
    {
      "cell_type": "code",
      "source": [
        "next(it)"
      ],
      "metadata": {
        "id": "gobnO6triNsO",
        "colab": {
          "base_uri": "https://localhost:8080/"
        },
        "outputId": "32d224d1-56a3-48ed-a794-b700b2c61224"
      },
      "execution_count": null,
      "outputs": [
        {
          "output_type": "execute_result",
          "data": {
            "text/plain": [
              "3"
            ]
          },
          "metadata": {},
          "execution_count": 19
        }
      ]
    },
    {
      "cell_type": "code",
      "source": [
        "it.send(5)"
      ],
      "metadata": {
        "colab": {
          "base_uri": "https://localhost:8080/"
        },
        "id": "r6CuccGa0ggH",
        "outputId": "7749e33b-0e4a-4c1a-ce43-6cb977e315aa"
      },
      "execution_count": 35,
      "outputs": [
        {
          "output_type": "execute_result",
          "data": {
            "text/plain": [
              "5"
            ]
          },
          "metadata": {},
          "execution_count": 35
        }
      ]
    },
    {
      "cell_type": "code",
      "source": [
        "next(it)"
      ],
      "metadata": {
        "colab": {
          "base_uri": "https://localhost:8080/"
        },
        "id": "QrsTqZU-0nFY",
        "outputId": "adb3e480-c20f-4148-c221-104b8781761c"
      },
      "execution_count": 36,
      "outputs": [
        {
          "output_type": "execute_result",
          "data": {
            "text/plain": [
              "6"
            ]
          },
          "metadata": {},
          "execution_count": 36
        }
      ]
    },
    {
      "cell_type": "code",
      "source": [
        "next(it)"
      ],
      "metadata": {
        "colab": {
          "base_uri": "https://localhost:8080/"
        },
        "id": "HZCaINXx0rx3",
        "outputId": "0c511d20-0160-438f-9e5b-fa88c4633a98"
      },
      "execution_count": 37,
      "outputs": [
        {
          "output_type": "execute_result",
          "data": {
            "text/plain": [
              "7"
            ]
          },
          "metadata": {},
          "execution_count": 37
        }
      ]
    },
    {
      "cell_type": "code",
      "source": [
        "next(it)"
      ],
      "metadata": {
        "colab": {
          "base_uri": "https://localhost:8080/"
        },
        "id": "r3k-ANwjaect",
        "outputId": "1d87a825-95f2-4a09-ab70-c3334ff13146"
      },
      "execution_count": 38,
      "outputs": [
        {
          "output_type": "execute_result",
          "data": {
            "text/plain": [
              "8"
            ]
          },
          "metadata": {},
          "execution_count": 38
        }
      ]
    },
    {
      "cell_type": "code",
      "source": [
        "it.send(3)"
      ],
      "metadata": {
        "colab": {
          "base_uri": "https://localhost:8080/"
        },
        "id": "JZzrJrkXamJS",
        "outputId": "fe66fd0e-71ea-41cb-8db3-81c6db56e175"
      },
      "execution_count": 40,
      "outputs": [
        {
          "output_type": "execute_result",
          "data": {
            "text/plain": [
              "3"
            ]
          },
          "metadata": {},
          "execution_count": 40
        }
      ]
    },
    {
      "cell_type": "code",
      "source": [
        "next(it)"
      ],
      "metadata": {
        "colab": {
          "base_uri": "https://localhost:8080/"
        },
        "id": "dyrVm09zasXp",
        "outputId": "202c460e-b72a-4d49-9759-13a2537a1035"
      },
      "execution_count": 41,
      "outputs": [
        {
          "output_type": "execute_result",
          "data": {
            "text/plain": [
              "4"
            ]
          },
          "metadata": {},
          "execution_count": 41
        }
      ]
    },
    {
      "cell_type": "markdown",
      "source": [
        "In addition to ***send()***, there are two other methods on generators:\n",
        "\n",
        "•\t***throw(value)*** is used to raise an exception inside the generator; the exception is raised by the yield expression where the generator’s execution is paused.\n",
        "\n",
        "•\t***close()*** raises a GeneratorExit exception inside the generator to terminate the iteration. On receiving this exception, the generator’s code must either raise GeneratorExit or StopIteration; catching the exception and doing anything else is illegal and will trigger a RuntimeError. close() will also be called by Python’s garbage collector when the generator is garbage-collected.\n"
      ],
      "metadata": {
        "id": "v_s-P_zsa9m0"
      }
    },
    {
      "cell_type": "markdown",
      "source": [
        "Two of Python’s built-in functions, ***map()*** and ***filter()*** duplicate the features of generator expressions:\n",
        "\n",
        "***map(f, iterA, iterB, ...) ***returns an iterator over the sequence"
      ],
      "metadata": {
        "id": "oEawIAGnbXf8"
      }
    },
    {
      "cell_type": "markdown",
      "source": [],
      "metadata": {
        "id": "zeJIYYbtbnTX"
      }
    },
    {
      "cell_type": "code",
      "source": [
        "def upper(s):\n",
        "  return s.upper()\n",
        "\n",
        "list(map(upper, ['sent', 'frag']))"
      ],
      "metadata": {
        "colab": {
          "base_uri": "https://localhost:8080/"
        },
        "id": "3QIYzspgbezS",
        "outputId": "f2ff1c02-b399-4885-91bd-e8d0f3dca40c"
      },
      "execution_count": 42,
      "outputs": [
        {
          "output_type": "execute_result",
          "data": {
            "text/plain": [
              "['SENT', 'FRAG']"
            ]
          },
          "metadata": {},
          "execution_count": 42
        }
      ]
    },
    {
      "cell_type": "code",
      "source": [
        "[upper(s) for s in ['sent', 'frag']]"
      ],
      "metadata": {
        "colab": {
          "base_uri": "https://localhost:8080/"
        },
        "id": "1NLRtsWbckZ1",
        "outputId": "338cdf9d-ca41-4ff6-c7f0-d9c89b3c6c13"
      },
      "execution_count": 43,
      "outputs": [
        {
          "output_type": "execute_result",
          "data": {
            "text/plain": [
              "['SENT', 'FRAG']"
            ]
          },
          "metadata": {},
          "execution_count": 43
        }
      ]
    },
    {
      "cell_type": "markdown",
      "source": [
        "***filter(predicate, iter)*** returns an iterator over all the sequence elements that meet a certain condition, and is similarly duplicated by list comprehensions. A predicate is a function that returns the truth value of some condition;\n",
        "\n",
        "for use with ***filter()***, the predicate must take a single value."
      ],
      "metadata": {
        "id": "hpByq9_4c2fN"
      }
    },
    {
      "cell_type": "code",
      "source": [
        "def is_even(x):\n",
        "  return (x % 2) == 0\n",
        "list(filter(is_even, range(20)))"
      ],
      "metadata": {
        "colab": {
          "base_uri": "https://localhost:8080/"
        },
        "id": "5nA60Lb4c-xN",
        "outputId": "44646d22-0032-4beb-accb-4b6cb7d87cfa"
      },
      "execution_count": 44,
      "outputs": [
        {
          "output_type": "execute_result",
          "data": {
            "text/plain": [
              "[0, 2, 4, 6, 8, 10, 12, 14, 16, 18]"
            ]
          },
          "metadata": {},
          "execution_count": 44
        }
      ]
    },
    {
      "cell_type": "code",
      "source": [
        "#List Comprehension\n",
        "list(x for x in range(20) if is_even(x))"
      ],
      "metadata": {
        "colab": {
          "base_uri": "https://localhost:8080/"
        },
        "id": "u3uSPRMjddvc",
        "outputId": "23e14ddd-2d6e-41e8-eff6-74e46a01920a"
      },
      "execution_count": 46,
      "outputs": [
        {
          "output_type": "execute_result",
          "data": {
            "text/plain": [
              "[0, 2, 4, 6, 8, 10, 12, 14, 16, 18]"
            ]
          },
          "metadata": {},
          "execution_count": 46
        }
      ]
    },
    {
      "cell_type": "markdown",
      "source": [
        "***enumerate(iter, start=0)*** counts off the elements in the iterable returning 2-tuples containing the count (from start) and each element."
      ],
      "metadata": {
        "id": "X5uy_Z2Id3xi"
      }
    },
    {
      "cell_type": "code",
      "source": [
        "for item in enumerate(['A', 'B', 'C', 'D']):\n",
        "  print(item)\n"
      ],
      "metadata": {
        "colab": {
          "base_uri": "https://localhost:8080/"
        },
        "id": "PA8d6YDmd_QY",
        "outputId": "556a3f25-2e46-405c-8718-4cf870cf0ae5"
      },
      "execution_count": 47,
      "outputs": [
        {
          "output_type": "stream",
          "name": "stdout",
          "text": [
            "(0, 'A')\n",
            "(1, 'B')\n",
            "(2, 'C')\n",
            "(3, 'D')\n"
          ]
        }
      ]
    },
    {
      "cell_type": "markdown",
      "source": [
        "***sort() method***"
      ],
      "metadata": {
        "id": "iunANMBieSnp"
      }
    },
    {
      "cell_type": "code",
      "source": [
        "import random\n",
        "# Generate 8 random numbers between [0, 20000)\n",
        "rand_list = random.sample(range(20000), 5)\n",
        "rand_list\n"
      ],
      "metadata": {
        "colab": {
          "base_uri": "https://localhost:8080/"
        },
        "id": "Hf0nZutkeR1k",
        "outputId": "5f318e1b-84c2-439c-b8f5-b6ee680d6fc9"
      },
      "execution_count": 54,
      "outputs": [
        {
          "output_type": "execute_result",
          "data": {
            "text/plain": [
              "[19623, 16690, 11875, 6905, 16760]"
            ]
          },
          "metadata": {},
          "execution_count": 54
        }
      ]
    },
    {
      "cell_type": "code",
      "source": [
        "sorted(rand_list)"
      ],
      "metadata": {
        "colab": {
          "base_uri": "https://localhost:8080/"
        },
        "id": "YDCkxFIVehN3",
        "outputId": "611337b6-9543-49a6-e47c-2e15314d8c82"
      },
      "execution_count": 55,
      "outputs": [
        {
          "output_type": "execute_result",
          "data": {
            "text/plain": [
              "[6905, 11875, 16690, 16760, 19623]"
            ]
          },
          "metadata": {},
          "execution_count": 55
        }
      ]
    },
    {
      "cell_type": "code",
      "source": [
        "sorted(rand_list, reverse=True)"
      ],
      "metadata": {
        "colab": {
          "base_uri": "https://localhost:8080/"
        },
        "id": "dMXZk56uelLh",
        "outputId": "8a1df8e4-3f58-41c3-b5ff-8889af834de1"
      },
      "execution_count": 56,
      "outputs": [
        {
          "output_type": "execute_result",
          "data": {
            "text/plain": [
              "[19623, 16760, 16690, 11875, 6905]"
            ]
          },
          "metadata": {},
          "execution_count": 56
        }
      ]
    },
    {
      "cell_type": "markdown",
      "source": [
        "# ***any(iter) and all(iter) built-ins***"
      ],
      "metadata": {
        "id": "-7_xQCHBer3J"
      }
    },
    {
      "cell_type": "markdown",
      "source": [
        "The ***any(iter) and all(iter)*** built-ins look at the truth values of an iterable’s contents. any() returns True if any element in the iterable is a true value, and all() returns True if all of the elements are true values:"
      ],
      "metadata": {
        "id": "Jy2NjZl5ev6W"
      }
    },
    {
      "cell_type": "code",
      "source": [
        "any([0, 1, 0, 1])"
      ],
      "metadata": {
        "colab": {
          "base_uri": "https://localhost:8080/"
        },
        "id": "AnkKxkSHevF8",
        "outputId": "6e05769c-d2d2-4eeb-c64c-ba6fc22c161f"
      },
      "execution_count": 57,
      "outputs": [
        {
          "output_type": "execute_result",
          "data": {
            "text/plain": [
              "True"
            ]
          },
          "metadata": {},
          "execution_count": 57
        }
      ]
    },
    {
      "cell_type": "code",
      "source": [
        "all([0, 1, 0, 1])"
      ],
      "metadata": {
        "colab": {
          "base_uri": "https://localhost:8080/"
        },
        "id": "3nvfL6gXfG-i",
        "outputId": "1a5eb53b-00be-40e8-b86b-f34cd5f31fcf"
      },
      "execution_count": 58,
      "outputs": [
        {
          "output_type": "execute_result",
          "data": {
            "text/plain": [
              "False"
            ]
          },
          "metadata": {},
          "execution_count": 58
        }
      ]
    },
    {
      "cell_type": "markdown",
      "source": [
        "# ***zip(iterA, iterB, ...) takes one element from each iterable and returns them in a tuple:***"
      ],
      "metadata": {
        "id": "WzSfxA5zfVTg"
      }
    },
    {
      "cell_type": "code",
      "source": [
        "zip(['a','b','c', 'd'], (1, 2, 3, 4))"
      ],
      "metadata": {
        "colab": {
          "base_uri": "https://localhost:8080/"
        },
        "id": "EoUOm0CLfZs6",
        "outputId": "b0cfcf41-6f6c-494c-b630-cd61f186782d"
      },
      "execution_count": 59,
      "outputs": [
        {
          "output_type": "execute_result",
          "data": {
            "text/plain": [
              "<zip at 0x7bafc5999080>"
            ]
          },
          "metadata": {},
          "execution_count": 59
        }
      ]
    },
    {
      "cell_type": "code",
      "source": [
        "zip(['a', 'b', 'c'], (1, 2, 3))"
      ],
      "metadata": {
        "colab": {
          "base_uri": "https://localhost:8080/"
        },
        "id": "R8r8IuUBfulT",
        "outputId": "92c5250c-c208-4227-f953-075532d3c9f1"
      },
      "execution_count": 60,
      "outputs": [
        {
          "output_type": "execute_result",
          "data": {
            "text/plain": [
              "<zip at 0x7bafc5999b00>"
            ]
          },
          "metadata": {},
          "execution_count": 60
        }
      ]
    }
  ]
}